{
 "cells": [
  {
   "cell_type": "code",
   "execution_count": 1,
   "id": "342423e7-5873-4de6-8e9d-955fde53e6cb",
   "metadata": {},
   "outputs": [
    {
     "data": {
      "text/plain": [
       "True"
      ]
     },
     "execution_count": 1,
     "metadata": {},
     "output_type": "execute_result"
    }
   ],
   "source": [
    "import os\n",
    "from dotenv import load_dotenv, find_dotenv\n",
    "\n",
    "import tiktoken\n",
    "from langchain_openai import ChatOpenAI\n",
    "from langchain import PromptTemplate\n",
    "from langchain.chains.summarize import load_summarize_chain\n",
    "from langchain.text_splitter import RecursiveCharacterTextSplitter\n",
    "\n",
    "load_dotenv(find_dotenv(), override=True)"
   ]
  },
  {
   "cell_type": "code",
   "execution_count": null,
   "id": "8f572b2f-3047-485c-945b-453c7be30e5d",
   "metadata": {},
   "outputs": [],
   "source": [
    "# from getpass import getpass\n",
    "\n",
    "# os.environ['OPENAI_API_KEY'] = getpass('Lutfen OpenAi api key giriniz:')"
   ]
  },
  {
   "cell_type": "code",
   "execution_count": 2,
   "id": "0497b098-3c95-42ad-a1e9-d362300aa177",
   "metadata": {},
   "outputs": [],
   "source": [
    "def load_document(file):\n",
    "    name, ext = os.path.splitext(file)\n",
    "\n",
    "    if ext == '.pdf':\n",
    "        from langchain.document_loaders import PyPDFLoader\n",
    "        print(f'{file} yukleniyor..')\n",
    "        loader = PyPDFLoader(file)\n",
    "        return loader.load()\n",
    "    elif ext == '.docx':\n",
    "        from langchain.document_loaders import Docx2txtLoader\n",
    "        print(f'{file} yukleniyor..')\n",
    "        loader = Docx2txtLoader(file)\n",
    "        return loader.load()\n",
    "    elif ext == '.txt':\n",
    "        from langchain.document_loaders import TextLoader\n",
    "        print(f'{file} yukleniyor..')\n",
    "        loader = TextLoader(file, encoding='utf-8')\n",
    "        return loader.load()\n",
    "    else:\n",
    "        print('Yuklenen dokuman PDF, DOCX veya TXT uzantili olmalidir.')\n",
    "        return None"
   ]
  },
  {
   "cell_type": "code",
   "execution_count": 3,
   "id": "53e75713-43ba-438d-8a03-023e69b1ea55",
   "metadata": {},
   "outputs": [],
   "source": [
    "def get_num_tokens(string: str, encoder: str =\"gpt-3.5-turbo\") -> int:\n",
    "    encoding = tiktoken.encoding_for_model(encoder)\n",
    "    num_tokens = len(encoding.encode(string))\n",
    "    return num_tokens"
   ]
  },
  {
   "cell_type": "code",
   "execution_count": 4,
   "id": "fa68945e-881a-495f-987b-d82c19af480c",
   "metadata": {},
   "outputs": [],
   "source": [
    "def summarizer_router(num_tokens: int) -> str:\n",
    "    '''\n",
    "    Kullanılan modelin gpt-3.5-turbo olduğu varsayılacaktır(16k context length) buna göre 'map_reduce' veya 'basic' döndürecektir.\n",
    "    Sayılar başka bir model kullanılıyorsa ayarlanabilir.\n",
    "    '''\n",
    "    if num_tokens > 10000:\n",
    "        return 'map_reduce'\n",
    "    else:\n",
    "        return 'basic'"
   ]
  },
  {
   "cell_type": "code",
   "execution_count": 5,
   "id": "df9e8cb0-a8b0-4315-90ef-6bccdb67f481",
   "metadata": {},
   "outputs": [],
   "source": [
    "llm = ChatOpenAI(model='gpt-3.5-turbo', temperature=0.1)"
   ]
  },
  {
   "cell_type": "code",
   "execution_count": 6,
   "id": "8ba7827b-d9b5-4084-8c15-9aa82df446aa",
   "metadata": {},
   "outputs": [],
   "source": [
    "template = \"\"\"Aşağıdaki metni özetle. Metindeki ana noktaları özetinde söyle. Özeti olabildiğince kısa ve öz tut.\n",
    "\n",
    "###\n",
    "{text}\n",
    "###\n",
    "\"\"\"\n",
    "\n",
    "prompt = PromptTemplate(\n",
    "    input_variables=[\"text\"],\n",
    "    template=template\n",
    ")"
   ]
  },
  {
   "cell_type": "code",
   "execution_count": 7,
   "id": "cbf08675-8cd5-4d95-9204-d98a812d78f7",
   "metadata": {},
   "outputs": [],
   "source": [
    "def basic_summarizer(text: str):\n",
    "    input_prompt = prompt.format(text=text)\n",
    "    ans = llm.invoke(input_prompt)\n",
    "    return ans.content"
   ]
  },
  {
   "cell_type": "code",
   "execution_count": 8,
   "id": "e6c8a917-4555-4dbc-8b82-8a97a9ee2193",
   "metadata": {},
   "outputs": [],
   "source": [
    "text_splitter = RecursiveCharacterTextSplitter(chunk_size=10000, chunk_overlap=500)\n",
    "\n",
    "map_prompt = \"\"\"Aşağıdaki metni kısa ve öz bir şekilde özetle:\n",
    "\n",
    "###\n",
    "{text}\n",
    "###\n",
    "\n",
    "Kısa ve öz özet:\n",
    "\"\"\"\n",
    "\n",
    "combine_prompt = \"\"\"\n",
    "Hashtagler içindeki metni kısa ve öz bir şekilde özetle.\n",
    "Metindeki ana noktaları bul ve özetle beraber söyle.\n",
    "\n",
    "###\n",
    "{text}\n",
    "###\n",
    "\n",
    "Ana noktaların özeti:\n",
    "\"\"\"\n",
    "\n",
    "map_prompt_template = PromptTemplate(template=map_prompt, input_variables=[\"text\"])\n",
    "combine_prompt_template = PromptTemplate(template=combine_prompt, input_variables=[\"text\"])\n",
    "\n",
    "def map_reduce_summarizer(text: str):\n",
    "    docs = text_splitter.create_documents([text])\n",
    "    summary_chain = load_summarize_chain(llm=llm, \n",
    "                                         chain_type='map_reduce',                                     \n",
    "                                         map_prompt=map_prompt_template,\n",
    "                                         combine_prompt=combine_prompt_template)\n",
    "    return summary_chain.run(docs)"
   ]
  },
  {
   "cell_type": "code",
   "execution_count": 9,
   "id": "1de46aa5-712b-44cf-882a-9736c982170d",
   "metadata": {},
   "outputs": [],
   "source": [
    "def summarize(text: str) -> str:\n",
    "    num_tokens = get_num_tokens(text)\n",
    "    router_decide = summarizer_router(num_tokens)\n",
    "    if router_decide == 'basic':\n",
    "        return basic_summarizer(text)\n",
    "    else:\n",
    "        return map_reduce_summarizer(text)"
   ]
  },
  {
   "cell_type": "code",
   "execution_count": 10,
   "id": "60873204-b273-411a-91ff-bb9cf7893598",
   "metadata": {},
   "outputs": [
    {
     "name": "stdout",
     "output_type": "stream",
     "text": [
      "./tck_bolum1.txt yukleniyor..\n"
     ]
    }
   ],
   "source": [
    "tck = load_document('./tck_bolum1.txt')[0].page_content"
   ]
  },
  {
   "cell_type": "code",
   "execution_count": 11,
   "id": "5276d9d0-8060-4837-a3a8-277c2b553884",
   "metadata": {},
   "outputs": [
    {
     "name": "stderr",
     "output_type": "stream",
     "text": [
      "C:\\Users\\baran\\AppData\\Local\\Programs\\Python\\Python310\\lib\\site-packages\\langchain_core\\_api\\deprecation.py:139: LangChainDeprecationWarning: The method `Chain.run` was deprecated in langchain 0.1.0 and will be removed in 0.3.0. Use invoke instead.\n",
      "  warn_deprecated(\n"
     ]
    },
    {
     "name": "stdout",
     "output_type": "stream",
     "text": [
      "- Ceza Kanunu suç işlenmesini önlemeyi ve kişi haklarını korumayı amaçlar.\n",
      "- Kanunun temel esasları suç ve ceza türlerini düzenler.\n",
      "- Adalet ve eşitlik ilkesi kanunun bağlayıcılığını vurgular.\n",
      "- Suçun oluşması kastın varlığına bağlıdır.\n",
      "- Hapis cezasının ertelenmesi, adli para cezası, hakların yoksun bırakılması gibi güvenlik tedbirleri konuları ele alınır.\n",
      "- Dava zamanaşımı süreleri belirli ceza türleri için geçerlidir.\n",
      "- Ceza zamanaşımı ve hak yoksunlukları ceza zamanaşımı dolana kadar devam eder.\n",
      "- Müsaderede zamanaşımı 20 yıl sonra infaz edilmez.\n",
      "- Soruşturulması ve kovuşturulması şikâyete bağlı suçlarda şikâyet hakkı olan kişinin altı ay içinde şikâyette bulunmaması durumunda soruşturma ve kovuşturma yapılamaz.\n"
     ]
    }
   ],
   "source": [
    "summary = summarize(tck)\n",
    "print(summary)"
   ]
  },
  {
   "cell_type": "code",
   "execution_count": 12,
   "id": "0f68495f-dcec-4a35-917d-96abb4465529",
   "metadata": {},
   "outputs": [],
   "source": [
    "capablanca = '''\n",
    "José Raúl Capablanca y Graupera (19 Kasım 1888 - 8 Mart 1942) Kübalı dünya satranç şampiyonu. \n",
    "1921 ile 1927 yılları arasında dünya satranç şampiyonu unvanını taşımıştır. \n",
    "1921 yılında Emanuel Lasker'i Havana'da yenerek unvanı kazanmış, \n",
    "1927'de Alexander Alekhine'e yenilerek bu unvanı devretmiştir.\n",
    "\n",
    "Satranca 4 yaşında başlamıştır. 12 yaşında Küba şampiyonu J.Corzo'yu yenerek Küba şampiyonluğunu kazanmıştır. \n",
    "21 yaşında Amerikan şampiyonu Marshall'ı yenmiştir. 1911 San Sebastian uluslararası satranç turnuvasını kazanmıştır. \n",
    "1914 yılında Petersburg uluslararası satranç turnuvasında Emanuel Lasker'in yarım puan arkasından ikinci olmuştur. \n",
    "I. Dünya Savaşı'nın başlaması ile beraber Emanuel Lasker ile şampiyonluk unvan maçı ertelenmiş ve ancak 1921 yılında oynanabilmiştir. \n",
    "4 galibiyet, 10 beraberlik sonrası ve maç kaybetmeksizin Lasker'den şampiyonluk unvanını almıştır. \n",
    "Londra 1922 turnuvasını ezici bir üstünlükle kazanmıştır. \n",
    "Ancak 1924 New York turnuvasında ikinci, 1925 Moskova turnuvasında üçüncü olur. \n",
    "Bu dönemde otörler Capablanca'nın zirveye ulaştıktan sonra artık ilerlemeye ve oyununu geliştirmeye yönelik itici gücün kaybolduğu konusunda görüş bildirirler.\n",
    "Capablanca'nın zaten satrançla ilgili çok çalışmadığı ve doğal yeteneği ile bu başarıları kazandığı söylenir. \n",
    "Aldığı üçüncülükten sonra daha sıkı çalışmaya başlar ve 1927 New York turnuvasını bütün maçları kazanarak kazanır. \n",
    "İkinci olan Alexander Alekhine Capablanca ile şampiyonluk unvan maçı oynamaya hak kazanır.\n",
    "'''"
   ]
  },
  {
   "cell_type": "code",
   "execution_count": 13,
   "id": "80a821fd-6871-4731-9188-57cf9833791d",
   "metadata": {},
   "outputs": [
    {
     "name": "stdout",
     "output_type": "stream",
     "text": [
      "José Raúl Capablanca, Kübalı dünya satranç şampiyonudur. 1921-1927 yılları arasında unvanı taşımıştır. Satrancı 4 yaşında öğrenmiş, genç yaşta birçok başarı elde etmiştir. Capablanca'nın doğal yeteneği ve az çalışmasıyla başarıları kazandığı söylenir. 1927'de Alexander Alekhine'e yenilerek unvanı kaybetmiştir.\n"
     ]
    }
   ],
   "source": [
    "summary = summarize(capablanca)\n",
    "print(summary)"
   ]
  }
 ],
 "metadata": {
  "kernelspec": {
   "display_name": "Python 3 (ipykernel)",
   "language": "python",
   "name": "python3"
  },
  "language_info": {
   "codemirror_mode": {
    "name": "ipython",
    "version": 3
   },
   "file_extension": ".py",
   "mimetype": "text/x-python",
   "name": "python",
   "nbconvert_exporter": "python",
   "pygments_lexer": "ipython3",
   "version": "3.10.11"
  }
 },
 "nbformat": 4,
 "nbformat_minor": 5
}
